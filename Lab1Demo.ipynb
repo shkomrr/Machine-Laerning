{
 "cells": [
  {
   "cell_type": "code",
   "execution_count": 2,
   "id": "6d167435-3dfb-44a5-b6eb-2b0076e81641",
   "metadata": {},
   "outputs": [
    {
     "data": {
      "text/plain": [
       "1"
      ]
     },
     "execution_count": 2,
     "metadata": {},
     "output_type": "execute_result"
    }
   ],
   "source": [
    "1"
   ]
  },
  {
   "cell_type": "code",
   "execution_count": 3,
   "id": "fa38d397-e2f7-4e29-ac66-100a16b4cad6",
   "metadata": {},
   "outputs": [
    {
     "data": {
      "text/plain": [
       "1.5"
      ]
     },
     "execution_count": 3,
     "metadata": {},
     "output_type": "execute_result"
    }
   ],
   "source": [
    "1.5"
   ]
  },
  {
   "cell_type": "code",
   "execution_count": null,
   "id": "338749e3-5bdd-4123-a2d7-efdeed339711",
   "metadata": {},
   "outputs": [],
   "source": [
    "This is information"
   ]
  },
  {
   "cell_type": "code",
   "execution_count": 6,
   "id": "9ad35b94-07ef-47a2-a846-36c84e71533a",
   "metadata": {},
   "outputs": [
    {
     "data": {
      "text/plain": [
       "10"
      ]
     },
     "execution_count": 6,
     "metadata": {},
     "output_type": "execute_result"
    }
   ],
   "source": [
    "5 + 5"
   ]
  },
  {
   "cell_type": "code",
   "execution_count": 7,
   "id": "f9ac5124-3fe8-497e-99cf-45126aa9dce6",
   "metadata": {},
   "outputs": [
    {
     "data": {
      "text/plain": [
       "25"
      ]
     },
     "execution_count": 7,
     "metadata": {},
     "output_type": "execute_result"
    }
   ],
   "source": [
    "5 * 5"
   ]
  },
  {
   "cell_type": "code",
   "execution_count": 8,
   "id": "114d321d-e74d-4274-ba15-353ccaf2f5a9",
   "metadata": {},
   "outputs": [
    {
     "data": {
      "text/plain": [
       "3.5"
      ]
     },
     "execution_count": 8,
     "metadata": {},
     "output_type": "execute_result"
    }
   ],
   "source": [
    "7 / 2"
   ]
  },
  {
   "cell_type": "code",
   "execution_count": 9,
   "id": "dbb87d9c-1177-4fb2-9fbd-bd8395b75769",
   "metadata": {},
   "outputs": [
    {
     "data": {
      "text/plain": [
       "1"
      ]
     },
     "execution_count": 9,
     "metadata": {},
     "output_type": "execute_result"
    }
   ],
   "source": [
    "7 % 2"
   ]
  },
  {
   "cell_type": "code",
   "execution_count": 10,
   "id": "38861a1e-7e9f-4b89-a62c-2d9fdf36d033",
   "metadata": {},
   "outputs": [],
   "source": [
    "x = 10"
   ]
  },
  {
   "cell_type": "code",
   "execution_count": 11,
   "id": "661c9d07-1b81-4c50-8ffc-242363958fec",
   "metadata": {},
   "outputs": [
    {
     "data": {
      "text/plain": [
       "10"
      ]
     },
     "execution_count": 11,
     "metadata": {},
     "output_type": "execute_result"
    }
   ],
   "source": [
    "x"
   ]
  },
  {
   "cell_type": "code",
   "execution_count": 12,
   "id": "d493868c-e18c-4f96-8b4c-36c0c90d9129",
   "metadata": {},
   "outputs": [
    {
     "data": {
      "text/plain": [
       "int"
      ]
     },
     "execution_count": 12,
     "metadata": {},
     "output_type": "execute_result"
    }
   ],
   "source": [
    "type(x)"
   ]
  },
  {
   "cell_type": "code",
   "execution_count": 13,
   "id": "9e585bea-2977-440c-8198-ece03128f11f",
   "metadata": {},
   "outputs": [],
   "source": [
    "x = \"hello\""
   ]
  },
  {
   "cell_type": "code",
   "execution_count": 14,
   "id": "c960d7e8-c75e-458c-9068-de070c92324b",
   "metadata": {},
   "outputs": [
    {
     "data": {
      "text/plain": [
       "'hello'"
      ]
     },
     "execution_count": 14,
     "metadata": {},
     "output_type": "execute_result"
    }
   ],
   "source": [
    "x"
   ]
  },
  {
   "cell_type": "code",
   "execution_count": 15,
   "id": "aa9ea756-3aaf-4381-bbc3-94ef946a9223",
   "metadata": {},
   "outputs": [
    {
     "data": {
      "text/plain": [
       "str"
      ]
     },
     "execution_count": 15,
     "metadata": {},
     "output_type": "execute_result"
    }
   ],
   "source": [
    "type(x)"
   ]
  },
  {
   "cell_type": "code",
   "execution_count": 16,
   "id": "23a05f10-6b61-42ab-8aa5-c8ed465c4c9e",
   "metadata": {},
   "outputs": [],
   "source": [
    "x = 10\n",
    "y = 20\n",
    "z = x + y"
   ]
  },
  {
   "cell_type": "code",
   "execution_count": 17,
   "id": "42f756ec-bd05-4ceb-b89a-f3359233ed9f",
   "metadata": {},
   "outputs": [
    {
     "data": {
      "text/plain": [
       "30"
      ]
     },
     "execution_count": 17,
     "metadata": {},
     "output_type": "execute_result"
    }
   ],
   "source": [
    "z"
   ]
  },
  {
   "cell_type": "code",
   "execution_count": 18,
   "id": "95cd994f-18e7-4099-8604-ca1036dcf4a3",
   "metadata": {},
   "outputs": [
    {
     "data": {
      "text/plain": [
       "'This is a string'"
      ]
     },
     "execution_count": 18,
     "metadata": {},
     "output_type": "execute_result"
    }
   ],
   "source": [
    "'This is a string'"
   ]
  },
  {
   "cell_type": "code",
   "execution_count": 19,
   "id": "866d5df7-8673-49f1-85be-8fff0482fb8d",
   "metadata": {},
   "outputs": [
    {
     "data": {
      "text/plain": [
       "'This is another string'"
      ]
     },
     "execution_count": 19,
     "metadata": {},
     "output_type": "execute_result"
    }
   ],
   "source": [
    "\"This is another string\""
   ]
  },
  {
   "cell_type": "code",
   "execution_count": 20,
   "id": "e8937579-0549-489f-b7b3-2f1c96d810b8",
   "metadata": {},
   "outputs": [
    {
     "name": "stdout",
     "output_type": "stream",
     "text": [
      "This is a new string\n"
     ]
    }
   ],
   "source": [
    "print(\"This is a new string\")"
   ]
  },
  {
   "cell_type": "code",
   "execution_count": 22,
   "id": "389e73d4-588a-4a17-a48c-5bc1c0061831",
   "metadata": {},
   "outputs": [],
   "source": [
    "first_num = 3\n",
    "second_num = 4\n"
   ]
  },
  {
   "cell_type": "code",
   "execution_count": 24,
   "id": "516f9b27-0d15-4165-96c0-637283c3ea7a",
   "metadata": {},
   "outputs": [
    {
     "data": {
      "text/plain": [
       "'The first number is 4 and second number is 3'"
      ]
     },
     "execution_count": 24,
     "metadata": {},
     "output_type": "execute_result"
    }
   ],
   "source": [
    "\"The first number is {} and second number is {}\".format(second_num,first_num)"
   ]
  },
  {
   "cell_type": "code",
   "execution_count": 26,
   "id": "224aea42-d2d5-442b-91a0-2127abcbf264",
   "metadata": {},
   "outputs": [
    {
     "name": "stdout",
     "output_type": "stream",
     "text": [
      "The first number is 3 and second number is 4\n"
     ]
    }
   ],
   "source": [
    "print(\"The first number is {placeholder1} and second number is {placeholder2}\".format(placeholder2=second_num,placeholder1=first_num))"
   ]
  },
  {
   "cell_type": "code",
   "execution_count": 28,
   "id": "307a800e-2616-4ee0-a39b-5198812b0312",
   "metadata": {},
   "outputs": [],
   "source": [
    "my_list=[1,2,3,4]"
   ]
  },
  {
   "cell_type": "code",
   "execution_count": 29,
   "id": "98f0cc25-0e48-44fe-9be9-69341754def3",
   "metadata": {},
   "outputs": [
    {
     "data": {
      "text/plain": [
       "[1, 2, 3, 4]"
      ]
     },
     "execution_count": 29,
     "metadata": {},
     "output_type": "execute_result"
    }
   ],
   "source": [
    "my_list"
   ]
  },
  {
   "cell_type": "code",
   "execution_count": 30,
   "id": "89c54c3f-8509-477f-ba83-2b72191dabac",
   "metadata": {},
   "outputs": [
    {
     "data": {
      "text/plain": [
       "list"
      ]
     },
     "execution_count": 30,
     "metadata": {},
     "output_type": "execute_result"
    }
   ],
   "source": [
    "type(my_list)"
   ]
  },
  {
   "cell_type": "code",
   "execution_count": 31,
   "id": "e8a43184-a3ee-4077-9856-d72907ee7252",
   "metadata": {},
   "outputs": [],
   "source": [
    "another_list = [1,2,3,4,5,\"Awais\"]"
   ]
  },
  {
   "cell_type": "code",
   "execution_count": 32,
   "id": "54ed8663-372d-43ca-adb3-046cab9c2323",
   "metadata": {},
   "outputs": [
    {
     "data": {
      "text/plain": [
       "[1, 2, 3, 4, 5, 'Awais']"
      ]
     },
     "execution_count": 32,
     "metadata": {},
     "output_type": "execute_result"
    }
   ],
   "source": [
    "another_list"
   ]
  },
  {
   "cell_type": "code",
   "execution_count": 34,
   "id": "effcddbe-4916-4f29-8175-17b19b975d77",
   "metadata": {},
   "outputs": [
    {
     "data": {
      "text/plain": [
       "'Awais'"
      ]
     },
     "execution_count": 34,
     "metadata": {},
     "output_type": "execute_result"
    }
   ],
   "source": [
    "another_list[5]"
   ]
  },
  {
   "cell_type": "code",
   "execution_count": 35,
   "id": "90abeb41-9161-469e-9f8e-0d462ed5849c",
   "metadata": {},
   "outputs": [],
   "source": [
    "another_list.append('Kashif')"
   ]
  },
  {
   "cell_type": "code",
   "execution_count": 36,
   "id": "a379363b-6ba8-441d-817e-4073f3ae85c6",
   "metadata": {},
   "outputs": [
    {
     "data": {
      "text/plain": [
       "[1, 2, 3, 4, 5, 'Awais', 'Kashif']"
      ]
     },
     "execution_count": 36,
     "metadata": {},
     "output_type": "execute_result"
    }
   ],
   "source": [
    "another_list"
   ]
  },
  {
   "cell_type": "code",
   "execution_count": 40,
   "id": "eceaf39c-c06c-4d3f-a0e2-04081b96b831",
   "metadata": {},
   "outputs": [
    {
     "data": {
      "text/plain": [
       "[1, 2, 3, 4, 5]"
      ]
     },
     "execution_count": 40,
     "metadata": {},
     "output_type": "execute_result"
    }
   ],
   "source": [
    "another_list[:5]"
   ]
  },
  {
   "cell_type": "code",
   "execution_count": 41,
   "id": "78e2d48f-6df9-486d-ba3d-fa5a3591ab0b",
   "metadata": {},
   "outputs": [],
   "source": [
    "nested_list = [1,2,3,4,[5,6,7]]"
   ]
  },
  {
   "cell_type": "code",
   "execution_count": 42,
   "id": "94c59f8e-f82d-42b3-b364-5e0333f1f213",
   "metadata": {},
   "outputs": [
    {
     "data": {
      "text/plain": [
       "[1, 2, 3, 4, [5, 6, 7]]"
      ]
     },
     "execution_count": 42,
     "metadata": {},
     "output_type": "execute_result"
    }
   ],
   "source": [
    "nested_list"
   ]
  },
  {
   "cell_type": "code",
   "execution_count": 43,
   "id": "af5d4ba1-886d-40b4-b207-db0a05c4427b",
   "metadata": {},
   "outputs": [
    {
     "data": {
      "text/plain": [
       "5"
      ]
     },
     "execution_count": 43,
     "metadata": {},
     "output_type": "execute_result"
    }
   ],
   "source": [
    "len(nested_list)"
   ]
  },
  {
   "cell_type": "code",
   "execution_count": 45,
   "id": "1421b506-e916-43e9-9491-658dce6e0d23",
   "metadata": {},
   "outputs": [
    {
     "data": {
      "text/plain": [
       "6"
      ]
     },
     "execution_count": 45,
     "metadata": {},
     "output_type": "execute_result"
    }
   ],
   "source": [
    "nested_list[4][1]"
   ]
  },
  {
   "cell_type": "code",
   "execution_count": 48,
   "id": "36a62563-29ad-497c-9ce5-7b382a99f5cc",
   "metadata": {},
   "outputs": [],
   "source": [
    "d = {\"key1\": \"value1\", \"key2\":\"value2\", \"key3\":\"value\"}"
   ]
  },
  {
   "cell_type": "code",
   "execution_count": 49,
   "id": "b8e799e8-fdee-479b-b188-fcf3389834a4",
   "metadata": {},
   "outputs": [
    {
     "data": {
      "text/plain": [
       "{'key1': 'value1', 'key2': 'value2', 'key3': 'value'}"
      ]
     },
     "execution_count": 49,
     "metadata": {},
     "output_type": "execute_result"
    }
   ],
   "source": [
    "d"
   ]
  },
  {
   "cell_type": "code",
   "execution_count": 50,
   "id": "a7861009-36ed-4c29-9851-9b8e251bfc63",
   "metadata": {},
   "outputs": [
    {
     "data": {
      "text/plain": [
       "'value1'"
      ]
     },
     "execution_count": 50,
     "metadata": {},
     "output_type": "execute_result"
    }
   ],
   "source": [
    "d[\"key1\"]"
   ]
  },
  {
   "cell_type": "code",
   "execution_count": 55,
   "id": "0f8dc61e-af7e-4cac-a8a8-4fb7665ca5f3",
   "metadata": {},
   "outputs": [],
   "source": [
    "d2 = {\"key1\": \"value1\", \"key2\":\"value2\", \"key3\":{'innerkey':[2,3,4,5]}}"
   ]
  },
  {
   "cell_type": "code",
   "execution_count": 56,
   "id": "49cbec94-51e2-40fb-9d22-8f8686e5abb9",
   "metadata": {},
   "outputs": [
    {
     "data": {
      "text/plain": [
       "{'key1': 'value1', 'key2': 'value2', 'key3': {'innerkey': [2, 3, 4, 5]}}"
      ]
     },
     "execution_count": 56,
     "metadata": {},
     "output_type": "execute_result"
    }
   ],
   "source": [
    "d2"
   ]
  },
  {
   "cell_type": "code",
   "execution_count": 59,
   "id": "f377f6f5-8b09-46f2-9bc9-402fdee2f695",
   "metadata": {},
   "outputs": [
    {
     "data": {
      "text/plain": [
       "4"
      ]
     },
     "execution_count": 59,
     "metadata": {},
     "output_type": "execute_result"
    }
   ],
   "source": [
    "d2['key3']['innerkey'][2]"
   ]
  },
  {
   "cell_type": "code",
   "execution_count": 60,
   "id": "c9991381-5143-481c-a402-a1137eb477d3",
   "metadata": {},
   "outputs": [],
   "source": [
    "t = (1,2,3,4)"
   ]
  },
  {
   "cell_type": "code",
   "execution_count": 61,
   "id": "b40c7754-44b7-4aa8-9a6b-98d6f4c85a71",
   "metadata": {},
   "outputs": [
    {
     "data": {
      "text/plain": [
       "tuple"
      ]
     },
     "execution_count": 61,
     "metadata": {},
     "output_type": "execute_result"
    }
   ],
   "source": [
    "type(t)"
   ]
  },
  {
   "cell_type": "code",
   "execution_count": 62,
   "id": "fb0fb260-19dc-4605-87e5-ce697e51e511",
   "metadata": {},
   "outputs": [
    {
     "data": {
      "text/plain": [
       "1"
      ]
     },
     "execution_count": 62,
     "metadata": {},
     "output_type": "execute_result"
    }
   ],
   "source": [
    "t[0]"
   ]
  },
  {
   "cell_type": "code",
   "execution_count": 63,
   "id": "f89443ea-824c-496d-b507-ae23a4ef7c07",
   "metadata": {},
   "outputs": [
    {
     "ename": "TypeError",
     "evalue": "'tuple' object does not support item assignment",
     "output_type": "error",
     "traceback": [
      "\u001b[1;31m---------------------------------------------------------------------------\u001b[0m",
      "\u001b[1;31mTypeError\u001b[0m                                 Traceback (most recent call last)",
      "Cell \u001b[1;32mIn[63], line 1\u001b[0m\n\u001b[1;32m----> 1\u001b[0m \u001b[43mt\u001b[49m\u001b[43m[\u001b[49m\u001b[38;5;241;43m0\u001b[39;49m\u001b[43m]\u001b[49m \u001b[38;5;241m=\u001b[39m \u001b[38;5;124m\"\u001b[39m\u001b[38;5;124mNew\u001b[39m\u001b[38;5;124m\"\u001b[39m\n",
      "\u001b[1;31mTypeError\u001b[0m: 'tuple' object does not support item assignment"
     ]
    }
   ],
   "source": [
    "t[0] = \"New\""
   ]
  },
  {
   "cell_type": "code",
   "execution_count": 66,
   "id": "92b2790f-fda5-44d6-a66e-f0fd7e73c854",
   "metadata": {},
   "outputs": [],
   "source": [
    "seta= {1,2,3,3,4,4,5}"
   ]
  },
  {
   "cell_type": "code",
   "execution_count": 67,
   "id": "7b883267-9c4c-49b7-9610-12edd00de781",
   "metadata": {},
   "outputs": [
    {
     "data": {
      "text/plain": [
       "5"
      ]
     },
     "execution_count": 67,
     "metadata": {},
     "output_type": "execute_result"
    }
   ],
   "source": [
    "len(seta)"
   ]
  },
  {
   "cell_type": "code",
   "execution_count": 70,
   "id": "330e4de2-cc1d-4920-a9be-c0a64a100cbb",
   "metadata": {},
   "outputs": [
    {
     "ename": "TypeError",
     "evalue": "'set' object is not callable",
     "output_type": "error",
     "traceback": [
      "\u001b[1;31m---------------------------------------------------------------------------\u001b[0m",
      "\u001b[1;31mTypeError\u001b[0m                                 Traceback (most recent call last)",
      "Cell \u001b[1;32mIn[70], line 1\u001b[0m\n\u001b[1;32m----> 1\u001b[0m \u001b[43mseta\u001b[49m\u001b[43m(\u001b[49m\u001b[38;5;241;43m0\u001b[39;49m\u001b[43m)\u001b[49m\n",
      "\u001b[1;31mTypeError\u001b[0m: 'set' object is not callable"
     ]
    }
   ],
   "source": [
    "seta."
   ]
  },
  {
   "cell_type": "code",
   "execution_count": 71,
   "id": "e0d08ae8-f0b4-424e-9566-e7d469c56bbc",
   "metadata": {},
   "outputs": [
    {
     "data": {
      "text/plain": [
       "True"
      ]
     },
     "execution_count": 71,
     "metadata": {},
     "output_type": "execute_result"
    }
   ],
   "source": [
    "1 == 1"
   ]
  },
  {
   "cell_type": "code",
   "execution_count": 72,
   "id": "008d954a-c85f-413a-bf8b-c17261d9ae66",
   "metadata": {},
   "outputs": [
    {
     "data": {
      "text/plain": [
       "True"
      ]
     },
     "execution_count": 72,
     "metadata": {},
     "output_type": "execute_result"
    }
   ],
   "source": [
    "1 != 2"
   ]
  },
  {
   "cell_type": "code",
   "execution_count": 73,
   "id": "a977f70d-7eca-497c-8dde-6c343c780431",
   "metadata": {},
   "outputs": [
    {
     "data": {
      "text/plain": [
       "False"
      ]
     },
     "execution_count": 73,
     "metadata": {},
     "output_type": "execute_result"
    }
   ],
   "source": [
    "1 > 2"
   ]
  },
  {
   "cell_type": "code",
   "execution_count": 74,
   "id": "7658b2e4-7546-41c9-855e-e58729a6d52e",
   "metadata": {},
   "outputs": [
    {
     "data": {
      "text/plain": [
       "False"
      ]
     },
     "execution_count": 74,
     "metadata": {},
     "output_type": "execute_result"
    }
   ],
   "source": [
    "1 >= 2"
   ]
  },
  {
   "cell_type": "code",
   "execution_count": 76,
   "id": "62bede4e-98bd-40d7-b558-faccd4d89c69",
   "metadata": {},
   "outputs": [
    {
     "data": {
      "text/plain": [
       "False"
      ]
     },
     "execution_count": 76,
     "metadata": {},
     "output_type": "execute_result"
    }
   ],
   "source": [
    "1 > 2 or 3 > 4"
   ]
  },
  {
   "cell_type": "code",
   "execution_count": 84,
   "id": "f970a707-3b28-42db-87bf-b9b21c7711be",
   "metadata": {},
   "outputs": [
    {
     "name": "stdout",
     "output_type": "stream",
     "text": [
      "Elif executed\n"
     ]
    }
   ],
   "source": [
    "if 1>2:\n",
    "    print(\"Code block if exectued\")\n",
    "elif 4 > 3:\n",
    "    print(\"Elif executed\")\n",
    "else:\n",
    "    print(\"Else block executed\")\n",
    "    "
   ]
  },
  {
   "cell_type": "code",
   "execution_count": null,
   "id": "f39eb998-ccf7-48ce-90fc-ff449746417b",
   "metadata": {},
   "outputs": [],
   "source": []
  }
 ],
 "metadata": {
  "kernelspec": {
   "display_name": "Python 3 (ipykernel)",
   "language": "python",
   "name": "python3"
  },
  "language_info": {
   "codemirror_mode": {
    "name": "ipython",
    "version": 3
   },
   "file_extension": ".py",
   "mimetype": "text/x-python",
   "name": "python",
   "nbconvert_exporter": "python",
   "pygments_lexer": "ipython3",
   "version": "3.13.0"
  }
 },
 "nbformat": 4,
 "nbformat_minor": 5
}
